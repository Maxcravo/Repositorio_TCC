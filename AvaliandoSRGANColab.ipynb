{
  "cells": [
    {
      "cell_type": "markdown",
      "metadata": {
        "id": "wbiqwqFe35-C"
      },
      "source": [
        "### **Esse Processo de Avaliação de imagem foi realizado pensando na seguinte situação Hipotética.**\n",
        "\n",
        "Suponha que temos 1 imagem, porém essa imagem passou pelo processo de redução de tamanho/diminuição de sua resolução. Por algum motivo o arquivo original da imagem foi perdido ou não pode ser utilizado. Surge a necessidade de, a partir da imagem de menor resolução, obtermos uma versão com resolução e qualidade similar a original. Nesse contexto temos:\n",
        "\n",
        "**Imagem Original** - 500 pixels de altura e 500 pixels de largura (500x500)\n",
        "\n",
        "**Imagem de menor resolução** - 150 pixels de altura e 150 pixels de largura (150x150)\n",
        "\n",
        "Para resolver tal problema a partir da imagem menor resolução será realizado o processo de super-resolution utilizando o modelo de inteligência artificial SRGAN. Gerando uma versão com maior resolução a partir desta imagem de baixa resolução.\n",
        "\n",
        "Após esse processo vamos forçar com que o arquivo da imagem de menor resolução e sua versão que passou pelo processo de super-resolution tenham a mesma resolução da imagem original (500x500), para assim compararmos utilizando métodos objetivos as duas versões com a imagem original e vermos como cada imagem vai ser avaliada. Permitindo a conclusão se o processo de super-resolution se mostrou eficaz.\n",
        "\n",
        "Os dois métodos utilizados avaliam as imagens de maneiras diferentes.\n",
        "\n",
        "1. PSNR avalia a qualidade de uma imagem a partir do calculo da razão entre o maior valor possível do sinal que a imagem pode emitir e o sinal de ruído que a mesma emite, quanto maior o resultado melhor é a qualidade da imagem.\n",
        "\n",
        "2. SSIM vai avaliar principalmente o quão similiar a imagem referência e a imagem processada são, utilizando de informações de luminância, contrast e estrutura. Quanto mais próximo de 1 mais similares são as imagens quanto mais próximos de -1 menos similares são."
      ]
    },
    {
      "cell_type": "code",
      "execution_count": null,
      "metadata": {
        "id": "jf8CIhkZYLMm"
      },
      "outputs": [],
      "source": [
        "import time\n",
        "import cv2\n",
        "from cv2 import dnn_superres\n",
        "import os\n",
        "import sys\n",
        "import numpy as np\n",
        "import matplotlib.pyplot as plt\n",
        "from skimage.metrics import structural_similarity as ssim\n",
        "from skimage.metrics import peak_signal_noise_ratio as psnr\n",
        "from skimage.color import rgb2ycbcr\n",
        "from google.colab import files\n",
        "from PIL import Image"
      ]
    },
    {
      "cell_type": "code",
      "execution_count": null,
      "metadata": {
        "id": "urxbNhqBfrQI"
      },
      "outputs": [],
      "source": [
        "!pip install psnr_hvsm\n",
        "from psnr_hvsm import psnr_hvs_hvsm\n",
        "from psnr_hvsm import bt601ycbcr"
      ]
    },
    {
      "cell_type": "markdown",
      "metadata": {
        "id": "pVFH70gpYa-Y"
      },
      "source": [
        "### 1. **Agora vamos difinir as 2 funções que vamos utilizar para avaliar as imagens**"
      ]
    },
    {
      "cell_type": "markdown",
      "metadata": {
        "id": "-wcexyEcY9yn"
      },
      "source": [
        "   * Primeiro definimos a função que utiliza o **Peak Signal To Noise Ratio**\n"
      ]
    },
    {
      "cell_type": "code",
      "execution_count": null,
      "metadata": {
        "id": "xQbiiMd1YW_J"
      },
      "outputs": [],
      "source": [
        "def PSNR(original_img, new_img):\n",
        "  psnr_low = psnr(original_img, new_img)\n",
        "  print(\"PSNR da imagem em comparação com a original é: \", psnr_low)\n",
        "  return psnr_low"
      ]
    },
    {
      "cell_type": "code",
      "execution_count": null,
      "metadata": {
        "id": "NALsjCNOf55x"
      },
      "outputs": [],
      "source": [
        "def PSNR_HVS(original_img, new_img):\n",
        "  psnr_low = psnr_hvs_hvsm(original_img, new_img)\n",
        "  print(\"PSNR da imagem em comparação com a original é: \", psnr_low)"
      ]
    },
    {
      "cell_type": "markdown",
      "metadata": {
        "id": "tPdFKG50IGoJ"
      },
      "source": [
        "  * Agora definimos a função que utiliza **Structural Similarity**"
      ]
    },
    {
      "cell_type": "code",
      "execution_count": null,
      "metadata": {
        "id": "re61F0kcZmWu"
      },
      "outputs": [],
      "source": [
        "def SSIM(original, new_img):\n",
        "  low_quality = ssim(original, new_img, win_size=3)\n",
        "  print(\"SSIM da imagem em comparação com a original é: \", low_quality)\n",
        "  return low_quality"
      ]
    },
    {
      "cell_type": "markdown",
      "metadata": {
        "id": "wIWghYNRxNqL"
      },
      "source": [
        "### 2. **Agora precisamos definir e armazenar 3 imagens diferentes**\n",
        "* A imagem original de referência (500x500)\n",
        "* Imagem original de baixa Resolução (150x150)\n",
        "* Imagem de baixa resolução que passou pelo processso de super Resolution"
      ]
    },
    {
      "cell_type": "markdown",
      "metadata": {
        "id": "_czqsmXHIlDA"
      },
      "source": [
        "### 3. **Acessamos o drive para podermos salvar as imagens utilizadas**\n",
        "\n",
        "*Importante pontuar que o usuário ao executar a célula a seguir vai estar dando permissão ao sistema colab para acessar seu banco de dados Google Drive, vale citar que tanto o colab quanto o google drive são softwares da mesma empresa (google)*"
      ]
    },
    {
      "cell_type": "code",
      "execution_count": null,
      "metadata": {
        "id": "qk2q858VyVgp"
      },
      "outputs": [],
      "source": [
        "from google.colab import drive\n",
        "drive.mount('/content/drive/')"
      ]
    },
    {
      "cell_type": "markdown",
      "metadata": {
        "id": "Nw2FESgJ0cqX"
      },
      "source": [
        "### 4. **salvamos nossa imagem original que vai servir como método de comparação com as outras duas imagens**"
      ]
    },
    {
      "cell_type": "markdown",
      "metadata": {
        "id": "I9d8rolu8RdF"
      },
      "source": [
        "* Primeiro definimos o local onde vamos salvar nossa imagem original.\n",
        "\n",
        "  **O local em questão pode ser Qualquer pasta dentro do drive que o usuário desejar**"
      ]
    },
    {
      "cell_type": "code",
      "execution_count": null,
      "metadata": {
        "id": "fcYp3tU18Ezy"
      },
      "outputs": [],
      "source": [
        "local_to_img = \"/content/drive/MyDrive/TCC/Texto_Principal/Analise_De_Resultados/Imagens\""
      ]
    },
    {
      "cell_type": "markdown",
      "metadata": {
        "id": "kSENeQmCQY2w"
      },
      "source": [
        "* Função que salva a imagem"
      ]
    },
    {
      "cell_type": "code",
      "execution_count": null,
      "metadata": {
        "id": "d9Mx1b57vJZ9"
      },
      "outputs": [],
      "source": [
        "def upload_original():\n",
        "  original_img = files.upload()\n",
        "  if original_img is not None:\n",
        "    for filename in original_img.keys():\n",
        "      with open(os.path.join(local_to_img, filename), \"wb\") as f:\n",
        "        f.write(original_img[filename])\n",
        "      pilImage = Image.open(filename).convert(\"RGB\")\n",
        "      TransformCv = np.array(pilImage)[:, :, ::-1].copy()\n",
        "  return pilImage\n",
        "\n",
        "original = upload_original()"
      ]
    },
    {
      "cell_type": "markdown",
      "metadata": {
        "id": "pTqdaIUREWzB"
      },
      "source": [
        "### 5. **Com a imagem devidamente recuperada, criamos funções para redução do tamanho da imagem para o tamanho estabelecido no nosso contexto.**"
      ]
    },
    {
      "cell_type": "markdown",
      "metadata": {
        "id": "_G-veAeRopFj"
      },
      "source": [
        "* Funções para diminui a resolução da imagem que importamos"
      ]
    },
    {
      "cell_type": "code",
      "execution_count": null,
      "metadata": {
        "id": "T1Ei-soUmcR4"
      },
      "outputs": [],
      "source": [
        "def resize_image150x150(original_image):\n",
        "  return original_image.resize((150, 150), Image.LANCZOS)"
      ]
    },
    {
      "cell_type": "markdown",
      "metadata": {
        "id": "g_LpdgU2sWrl"
      },
      "source": [
        "* Função que transforma imagem PIL em um array"
      ]
    },
    {
      "cell_type": "code",
      "execution_count": null,
      "metadata": {
        "id": "eY_EmZV5olOI"
      },
      "outputs": [],
      "source": [
        "def cv2_transform(image):\n",
        "  return np.array(image)[:, :, ::-1].copy()"
      ]
    },
    {
      "cell_type": "markdown",
      "metadata": {
        "id": "YE_m8UIyJeHc"
      },
      "source": [
        "### 6. **Com as funções necessárias definidas, podemos a partir da nossa imagem original(referência), gerar nossa imagem de baixa resolução**"
      ]
    },
    {
      "cell_type": "code",
      "execution_count": null,
      "metadata": {
        "id": "v8UeZSMOv14s"
      },
      "outputs": [],
      "source": [
        "img150x150 = resize_image150x150(original)\n",
        "img150x150"
      ]
    },
    {
      "cell_type": "markdown",
      "metadata": {
        "id": "3-1cmoViGFmc"
      },
      "source": [
        " ### 7. **Agora com as funções necessárias definidas precisamos importar as funções para utilização do modelo SRGAN e fazer o uspcaling da imagem em questão.**\n",
        " Caso presente leitor já tenha testado o outro arquivo colab elaborado pelo autor que também utiliza o modelo SRGAN, vai reparar que estamos apenas importanto os mesmos arquivos do modelo para utiliza-lo em outro contexto.\n",
        "\n",
        "Explicando de maneira breve:\n",
        "\n",
        "1. Acessamos/importamos o diretório onde está nossos arquivos do modelo e de funções necessárias para sua utilização;\n",
        "\n",
        "2. Atribuimos ao modelo os pesos já pré-treinados;\n",
        "\n",
        "3. Definimos nossa função que utiliza o modelo já carregado com os pesos pré-treinados"
      ]
    },
    {
      "cell_type": "code",
      "execution_count": null,
      "metadata": {
        "id": "aMphhjGfGQYD"
      },
      "outputs": [],
      "source": [
        "sys.path.append(\"/content/drive/MyDrive/SrganNoColab/super-resolution-colab\")\n",
        "\n",
        "from data import DIV2K\n",
        "from model.srgan import generator"
      ]
    },
    {
      "cell_type": "code",
      "execution_count": null,
      "metadata": {
        "id": "R0QYcdiZG8qd"
      },
      "outputs": [],
      "source": [
        "diretoriosPesos = \"/content/drive/MyDrive/SrganNoColab/super-resolution-colab/weights/srgan/weights/srgan\"\n",
        "arquivoPesos = lambda filename: os.path.join(diretoriosPesos, filename)\n",
        "\n",
        "os.makedirs(diretoriosPesos, exist_ok=True)"
      ]
    },
    {
      "cell_type": "code",
      "execution_count": null,
      "metadata": {
        "id": "Yujm7Ie7G9qp"
      },
      "outputs": [],
      "source": [
        "gan_generator = generator()\n",
        "\n",
        "gan_generator.load_weights(arquivoPesos(\"gan_generator.h5\"))"
      ]
    },
    {
      "cell_type": "code",
      "execution_count": null,
      "metadata": {
        "id": "jp1oJCtSHBak"
      },
      "outputs": [],
      "source": [
        "from utils import load_image\n",
        "from model import resolve_single\n",
        "\n",
        "def upscaling_visualizacao(lr_image):\n",
        "  lr = cv2_transform(lr_image)\n",
        "  gan_upscaling = resolve_single(gan_generator, lr)\n",
        "  return gan_upscaling"
      ]
    },
    {
      "cell_type": "markdown",
      "metadata": {
        "id": "4GXG8EayJ3Ga"
      },
      "source": [
        "### 8. **Aqui Estamos Efetivamente fazendo o upscaling da nossa imagem de tamanho 150x150**"
      ]
    },
    {
      "cell_type": "code",
      "execution_count": null,
      "metadata": {
        "id": "F_22ZDe9J2B0"
      },
      "outputs": [],
      "source": [
        "srImagem = upscaling_visualizacao(img150x150)"
      ]
    },
    {
      "cell_type": "markdown",
      "metadata": {
        "id": "z1qB-5sTKXx9"
      },
      "source": [
        "### **9. Fazemos um processo de conversão para o formato RGB original da imagem, garantindo que a imagem terá paleta de cores igual a original.**"
      ]
    },
    {
      "cell_type": "code",
      "execution_count": null,
      "metadata": {
        "id": "un-tJdR3HRIf"
      },
      "outputs": [],
      "source": [
        "img = srImagem.numpy().astype(np.uint8)\n",
        "# retornando imagens para paleta original\n",
        "b,g,r = cv2.split(img)\n",
        "srImagem = cv2.merge([r,g,b])\n",
        "plt.axis(\"off\")\n",
        "plt.gca().set_axis_off()\n",
        "plt.imshow(srImagem)\n",
        "plt.savefig('srImagem.png', bbox_inches='tight')\n",
        "# plt.show(srImagem)"
      ]
    },
    {
      "cell_type": "code",
      "execution_count": null,
      "metadata": {
        "id": "FQJ-ohX2xuuf"
      },
      "outputs": [],
      "source": [
        "srImagem"
      ]
    },
    {
      "cell_type": "markdown",
      "metadata": {
        "id": "sGa16jjn5bw3"
      },
      "source": [
        "### 10. **Com as imagens de baixa resolução e a imagem de alta resolução podemos então avaliar o resultado do processo de de super-resolution e comparar a imagem de baixa resolução com a imagem de maior resolução gerada a partir desta.**"
      ]
    },
    {
      "cell_type": "markdown",
      "metadata": {
        "id": "yoxbcoxl7QHM"
      },
      "source": [
        "* Obtemos as informações de altura e largura da imagem que passou pelo super-resolution"
      ]
    },
    {
      "cell_type": "code",
      "execution_count": null,
      "metadata": {
        "id": "oC8_mP8v6P8E"
      },
      "outputs": [],
      "source": [
        "SRheight, SRwidth, channels = srImagem.shape"
      ]
    },
    {
      "cell_type": "code",
      "execution_count": null,
      "metadata": {
        "id": "WGpdUy2C7fQf"
      },
      "outputs": [],
      "source": [
        "Lowheight, Lowwidth = img150x150.size"
      ]
    },
    {
      "cell_type": "markdown",
      "metadata": {
        "id": "eATqmgSADmpD"
      },
      "source": [
        "* Criamos a função para podermos visualizar o gráfico comparativo"
      ]
    },
    {
      "cell_type": "code",
      "execution_count": null,
      "metadata": {
        "id": "gWNCt2W87xQP"
      },
      "outputs": [],
      "source": [
        "def create_plot_res(srheight, srwidth, lowheight, Lowwidth):\n",
        "  values = [srheight, srwidth, lowheight, Lowwidth]\n",
        "  labels = ['Altura imagem SRGAN', 'largura imagem SRGAN', 'Altura imagem baixa resolução', 'Largura Imagem baixa resolução']\n",
        "  colors = plt.bar([1, 2, 3, 4], values)\n",
        "  plt.xticks([1, 2, 3, 4], labels, rotation=90)  # Rotate labels if needed\n",
        "  colors[0].set_color('red')\n",
        "  colors[1].set_color('red')\n",
        "  colors[2].set_color('blue')\n",
        "  colors[3].set_color('blue')\n",
        "  plt.ylabel('Valor em pixels')\n",
        "  plt.title('Comparação da diferença de resolução entre as imagens')"
      ]
    },
    {
      "cell_type": "markdown",
      "metadata": {
        "id": "fEJIKSsrHufz"
      },
      "source": [
        "* Executamos a função passando os dados como parâmetro"
      ]
    },
    {
      "cell_type": "code",
      "execution_count": null,
      "metadata": {
        "id": "Nq9g94eP8vPq"
      },
      "outputs": [],
      "source": [
        "create_plot_res(SRheight, SRwidth, Lowheight, Lowwidth)"
      ]
    },
    {
      "cell_type": "markdown",
      "metadata": {
        "id": "668Ew3i9M_aN"
      },
      "source": [
        "### 11. **Agora é necessário que tanto nossa imagem de baixa resolução quanto nossa imagem que passou pelo processo de super-resultion tenham o mesmo tamanho e estejam em um formato específico para que possamos compara-las. Fazemos então mais uma vez a transformação da imagem.**\n"
      ]
    },
    {
      "cell_type": "markdown",
      "metadata": {
        "id": "vBVzW7kHS7aq"
      },
      "source": [
        "* Imagem que passou pelo processo de super-resolution, com tamanho aumentado para (500x500)"
      ]
    },
    {
      "cell_type": "code",
      "execution_count": null,
      "metadata": {
        "id": "9S9wkOJeHzBI"
      },
      "outputs": [],
      "source": [
        "srImagem600x600 = srImagem\n",
        "srImagem = cv2.resize(srImagem, (500, 500), Image.LANCZOS)\n",
        "srImagem"
      ]
    },
    {
      "cell_type": "markdown",
      "metadata": {
        "id": "o7pN1-kLTEwi"
      },
      "source": [
        "* Imagem de baixa resolução com tamanho aumentado para (500x500)"
      ]
    },
    {
      "cell_type": "code",
      "execution_count": null,
      "metadata": {
        "id": "lT1iYJyAR-7G"
      },
      "outputs": [],
      "source": [
        "img150x150 = np.array(img150x150)\n",
        "img150low = img150x150\n",
        "img150x150 = cv2.resize(img150x150, (500, 500), Image.LANCZOS)\n",
        "img150x150"
      ]
    },
    {
      "cell_type": "markdown",
      "metadata": {
        "id": "B9wDKTzbTMpy"
      },
      "source": [
        "* Imagem original"
      ]
    },
    {
      "cell_type": "code",
      "execution_count": null,
      "metadata": {
        "id": "v1AocCcsS08p"
      },
      "outputs": [],
      "source": [
        "original = np.array(original)\n",
        "original"
      ]
    },
    {
      "cell_type": "markdown",
      "metadata": {
        "id": "irpegSsDTyIG"
      },
      "source": [
        "* Calculo do PSNR"
      ]
    },
    {
      "cell_type": "code",
      "execution_count": null,
      "metadata": {
        "id": "qrXm8TQlMeUW"
      },
      "outputs": [],
      "source": [
        "PSNR_Srgan = PSNR(original, srImagem)\n",
        "PSNR_baixa_Res = PSNR(original, img150x150)"
      ]
    },
    {
      "cell_type": "code",
      "execution_count": null,
      "metadata": {
        "id": "Di_eG8HgVB1U"
      },
      "outputs": [],
      "source": [
        "SSIM_Srgan = SSIM(original, srImagem)\n",
        "SSIM_Baixa_Res = SSIM(original, img150x150)"
      ]
    },
    {
      "cell_type": "markdown",
      "metadata": {
        "id": "N_sd1eJU5nTd"
      },
      "source": [
        "### **12. Agora Criamos as funções para visualização gráfica da diferença entre os resultados**"
      ]
    },
    {
      "cell_type": "markdown",
      "metadata": {
        "id": "vWSNrfG75u9V"
      },
      "source": [
        "* Gráfico PSNR"
      ]
    },
    {
      "cell_type": "code",
      "execution_count": null,
      "metadata": {
        "id": "Y9tVTPBy9htg"
      },
      "outputs": [],
      "source": [
        "def create_plot_psnr(srgan, lowRes):\n",
        "  values = [srgan, lowRes]\n",
        "  min_value = min(values)\n",
        "  max_value = max(values)\n",
        "\n",
        "  plt.style.use('_mpl-gallery')\n",
        "  fig, ax = plt.subplots(figsize=(5, 5))\n",
        "  colors = plt.bar([1, 3], values)\n",
        "  colors[0].set_color('red')\n",
        "  colors[1].set_color('blue')\n",
        "  plt.xticks([1, 3], ['Imagem SRGAN', 'Imagem de Baixa Resolução'])\n",
        "  plt.yticks(np.arange(min_value - 1, max_value + 1, 0.1))\n",
        "  plt.ylabel('Comparação com a imagem de referência')\n",
        "  plt.title('Comparação entre os resultados do PSNR')\n",
        "  plt.ylim(min_value - 1, max_value + 1)\n",
        "  plt.show()\n",
        "  plt.savefig('PSNR.png', dpi=100.0)\n",
        "\n",
        "create_plot_psnr(PSNR_Srgan, PSNR_baixa_Res)"
      ]
    },
    {
      "cell_type": "markdown",
      "metadata": {
        "id": "Yn36JlqY5yXG"
      },
      "source": [
        "* Gráfico SSIM"
      ]
    },
    {
      "cell_type": "code",
      "execution_count": null,
      "metadata": {
        "id": "C0UhtU5o5F2z"
      },
      "outputs": [],
      "source": [
        "def create_plot_ssim(srgan, lowRes):\n",
        "  values = [srgan, lowRes]\n",
        "  min_value = min(values)\n",
        "  max_value = max(values)\n",
        "\n",
        "  plt.style.use('_mpl-gallery')\n",
        "  fig, ax = plt.subplots(figsize=(5, 5))\n",
        "  colors = plt.bar([1, 3], values)\n",
        "  colors[0].set_color('red')\n",
        "  colors[1].set_color('blue')\n",
        "  plt.xticks([1, 3], ['Imagem SRGAN', 'Imagem de Baixa Resolução'])\n",
        "  plt.yticks(np.arange(min_value - 1, max_value + 1, 0.1))\n",
        "  plt.ylabel('Comparação com a imagem de referência')\n",
        "  plt.title('Comparação entre os resultados do SSIM')\n",
        "  plt.ylim(min_value - 1, max_value + 1)\n",
        "  plt.show()\n",
        "  plt.savefig('SSIM.png', dpi=100.0)\n",
        "\n",
        "create_plot_ssim(SSIM_Srgan, SSIM_Baixa_Res)"
      ]
    },
    {
      "cell_type": "markdown",
      "source": [
        "### **13. Resumo de todas as imagens geradas no processo de analise**\n",
        "\n",
        "Com a avaliação completa, abaixo temos um resumo de todas as imagens utilizadas.\n",
        "\n",
        "Todas as imagens foram aumentadas para um tamanho única para facilitar a visualização"
      ],
      "metadata": {
        "id": "7vrbYKwLUNuX"
      }
    },
    {
      "cell_type": "code",
      "execution_count": null,
      "metadata": {
        "id": "i7HaYApHjePF"
      },
      "outputs": [],
      "source": [
        "images = [original, srImagem, srImagem600x600, img150x150, img150low]\n",
        "titles = [\"Imagem original\", \"Imagem gerada pelo SRGAN 600x600\", \"Imagem SRGAN 500x500\",  \"Imagem de baixa resolução aumentada para 500x500\", \"imagem de baixa resolução 150x150\" ]\n",
        "\n",
        "\n",
        "fig, axes = plt.subplots(nrows=3, ncols=2, figsize=(12,12))\n",
        "\n",
        "for i, ax in enumerate(axes.flat):\n",
        "  if i < len(images):\n",
        "    ax.imshow(images[i])\n",
        "    ax.set_title(titles[i])\n",
        "    ax.axis('off')\n",
        "\n",
        "axes.flat[-1].axis('off')\n",
        "\n",
        "plt.tight_layout()\n",
        "plt.show()"
      ]
    }
  ],
  "metadata": {
    "colab": {
      "provenance": []
    },
    "kernelspec": {
      "display_name": "Python 3",
      "name": "python3"
    },
    "language_info": {
      "name": "python"
    }
  },
  "nbformat": 4,
  "nbformat_minor": 0
}