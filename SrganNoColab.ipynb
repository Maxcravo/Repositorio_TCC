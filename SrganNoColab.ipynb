{
  "nbformat": 4,
  "nbformat_minor": 0,
  "metadata": {
    "colab": {
      "provenance": []
    },
    "kernelspec": {
      "name": "python3",
      "display_name": "Python 3"
    },
    "language_info": {
      "name": "python"
    }
  },
  "cells": [
    {
      "cell_type": "markdown",
      "source": [
        "### Esse código de Exemplo para utilização do modelo Srgan a partir do sistema web Colaboratory foi baseado no exemplo dado pelo mestre e pesquisador Iga Narendra Pramawijaya\n",
        "\n",
        "####Importante destacar que para realizar o upscaling a partir deste colaboratory é necessário ter uma conta no google e dar permissão ao colaboratory para acessar seu google drive.\n",
        "\n",
        "####Além disso será criado em seu google drive uma pasta que contém os arquivos necessário para a utilização do modelo, após a sua utilização a pasta pode ser excluída sem nenhum problema."
      ],
      "metadata": {
        "id": "jPvioBMlWxJ1"
      }
    },
    {
      "cell_type": "markdown",
      "source": [
        "1. É necessário para a utilização do modelo o dowload de arquivos específicos que precisam ser acessados pelo modelo, uma solução é usar o próprio drive para armazenar esses arquivos e acessá-los nesse próprio colaboratory\n",
        "\n",
        "Cabe ressaltar que aqui você está dando permissão para o próprio **google colaboratory**, serviço da própria empresa **Google LLC** acessar seus arquivos no drive."
      ],
      "metadata": {
        "id": "QwMka_IwW2h9"
      }
    },
    {
      "cell_type": "code",
      "execution_count": null,
      "metadata": {
        "id": "dvzr1o4MS0DB"
      },
      "outputs": [],
      "source": [
        "from google.colab import drive, files\n",
        "drive.mount('/content/drive/')"
      ]
    },
    {
      "cell_type": "markdown",
      "source": [
        "2. Entramos no diretório root(home) do drive."
      ],
      "metadata": {
        "id": "OlKJnp6nXcH0"
      }
    },
    {
      "cell_type": "code",
      "source": [
        "%cd /content/drive/MyDrive/"
      ],
      "metadata": {
        "id": "UQ5Coeb_S-Qg"
      },
      "execution_count": null,
      "outputs": []
    },
    {
      "cell_type": "code",
      "source": [
        "!ls"
      ],
      "metadata": {
        "id": "i6fHmEiKTMgf"
      },
      "execution_count": null,
      "outputs": []
    },
    {
      "cell_type": "markdown",
      "source": [
        "3. Vamos criar nosso diretório para armazenar nossos arquivos do modelo. O nome escolhido pelo autor é \"SrganNoColab\" Mas esse nome pode ser alterado sem problemas."
      ],
      "metadata": {
        "id": "oCHJ9r5ZU2Xq"
      }
    },
    {
      "cell_type": "code",
      "source": [
        "from os import path\n",
        "import os\n",
        "\n",
        "if path.exists(\"/content/drive/MyDrive/SrganNoColab\") == False:\n",
        "  os.mkdir(\"/content/drive/MyDrive/SrganNoColab\")"
      ],
      "metadata": {
        "id": "oCqi8GhzTbfj"
      },
      "execution_count": null,
      "outputs": []
    },
    {
      "cell_type": "code",
      "source": [
        "%cd /content/drive/MyDrive/SrganNoColab"
      ],
      "metadata": {
        "id": "EwASZnLNWPAc"
      },
      "execution_count": null,
      "outputs": []
    },
    {
      "cell_type": "markdown",
      "source": [
        "4. Agora com a pasta criada podemos começar o processo de dowload do repositório com os arquivos necessários."
      ],
      "metadata": {
        "id": "zJSDFgTGWXVu"
      }
    },
    {
      "cell_type": "code",
      "source": [
        "if path.exists(\"/content/drive/MyDrive/SrganNoColab/super-resolution-colab\") == False:\n",
        "  !git clone https://github.com/IritaSee/super-resolution-colab.git"
      ],
      "metadata": {
        "id": "rjU9v914WVV5"
      },
      "execution_count": null,
      "outputs": []
    },
    {
      "cell_type": "code",
      "source": [
        "!ls"
      ],
      "metadata": {
        "id": "3BF1uBwefhgY"
      },
      "execution_count": null,
      "outputs": []
    },
    {
      "cell_type": "code",
      "source": [
        "%cd super-resolution-colab"
      ],
      "metadata": {
        "id": "SWkWYWYifiVZ"
      },
      "execution_count": null,
      "outputs": []
    },
    {
      "cell_type": "markdown",
      "source": [
        "###Caso já tenha efetuado a utilização do modelo com esse colab em específico pode pular os proxímos passo e ir direto para o Passo **8**\n",
        "\n",
        "\n",
        "Agora com o repositório e os arquivos do modelo baixados ainda precisamos baixar os pesos pré-treinados, pois caso não utilizemos pesos que já tenham sido treinados previamente o processo de treinamento iria exigir um longo tempo e seria custoso, considerando ainda que o plano gratuito do google colab não daria suporte de hardware para a realização de tal atividade.\n",
        "\n",
        "5. Usamos então o comando wget para realizarmos o dowload dos pesos já treinado. Esses pesos estão armazenados no repositório do blog do professor Martin Krasser.\n"
      ],
      "metadata": {
        "id": "aenn2DelfxP1"
      }
    },
    {
      "cell_type": "code",
      "source": [
        "!wget https://martin-krasser.de/sisr/weights-srgan.tar.gz"
      ],
      "metadata": {
        "id": "Hoe2Gs34fkCK"
      },
      "execution_count": null,
      "outputs": []
    },
    {
      "cell_type": "markdown",
      "source": [
        "6. Agora movemos nosso arquivos de pesos compactados para a pasta weights para podermos extrair nosso arquivo."
      ],
      "metadata": {
        "id": "A5ROoF8GYRvf"
      }
    },
    {
      "cell_type": "code",
      "source": [
        "!mv ./weights-srgan.tar.gz ./weights/srgan/weights-srgan.tar.gz"
      ],
      "metadata": {
        "id": "zTeVCAKjerzc"
      },
      "execution_count": null,
      "outputs": []
    },
    {
      "cell_type": "markdown",
      "source": [
        "7. Verificamos se nosso arquivo com os pesos está no diretório e extraímos o arquivo no formato tar.gz"
      ],
      "metadata": {
        "id": "HVIRjcLOchye"
      }
    },
    {
      "cell_type": "code",
      "source": [
        "%cd ./weights/srgan/\n",
        "!ls\n",
        "!tar -xvf weights-srgan.tar.gz"
      ],
      "metadata": {
        "id": "2NkAdzG5bAUL"
      },
      "execution_count": null,
      "outputs": []
    },
    {
      "cell_type": "code",
      "source": [
        "%cd ../../"
      ],
      "metadata": {
        "id": "Wx9nhvx9cydT"
      },
      "execution_count": null,
      "outputs": []
    },
    {
      "cell_type": "markdown",
      "source": [
        "### Agora já baixamos os principais arquivos para o funcionamento do modelo, podemos então definir as principais funções para podermos efetivamente executar as funções de upscaling do nosso modelo."
      ],
      "metadata": {
        "id": "IZYfxTXLkJI7"
      }
    },
    {
      "cell_type": "markdown",
      "source": [
        "8. Importamos o generator do nosso modelo *srgan* do arquivo srgan.py\n",
        "\n",
        "Cabe ressaltar que apenas importamos o generator e mais nenhuma outra função de nosso modelo como um todo, pois como vamos trabalhar com pesos previamente treinados precisamos apenas de nosso generator e alimenta-lo com os pesos já baixados.\n",
        "\n",
        "Caso fossemos realizar o treinamento outras funções deveriam ser importadas."
      ],
      "metadata": {
        "id": "RG4Z4WfTlWNR"
      }
    },
    {
      "cell_type": "code",
      "source": [
        "import sys\n",
        "import matplotlib.pyplot as plt\n",
        "\n",
        "sys.path.append(\"/content/drive/MyDrive/SrganNoColab\")\n",
        "\n",
        "from data import DIV2K\n",
        "from model.srgan import generator\n",
        "\n",
        "%matplotlib inline"
      ],
      "metadata": {
        "id": "1S1ZvDQ5c9QN"
      },
      "execution_count": null,
      "outputs": []
    },
    {
      "cell_type": "markdown",
      "source": [
        "9. agora vamos associar a uma variável os pesos já extraídos do diretório weights/srgan.\n",
        "\n",
        "Assim podemos a partir dessa variável acessar os arquivos dos pesos que estão formato .h5"
      ],
      "metadata": {
        "id": "9umHqoW2mFp4"
      }
    },
    {
      "cell_type": "code",
      "source": [
        "# foi usado o caminho completo por questões de facilidade de visualização\n",
        "diretoriosPesos = \"/content/drive/MyDrive/SrganNoColab/super-resolution-colab/weights/srgan/weights/srgan\"\n",
        "arquivoPesos = lambda filename: os.path.join(diretoriosPesos, filename)\n",
        "\n",
        "os.makedirs(diretoriosPesos, exist_ok=True)"
      ],
      "metadata": {
        "id": "ZdMxq_sjlB2d"
      },
      "execution_count": null,
      "outputs": []
    },
    {
      "cell_type": "markdown",
      "source": [
        "10. Agora podemos instanciar nosso generator na variável generator_model e utilizando a função load_weights, função essa do próprio generator, alimentar nosso generator com os pesos já pré treinados."
      ],
      "metadata": {
        "id": "Our99o4Zo0hb"
      }
    },
    {
      "cell_type": "code",
      "source": [
        "pre_generator = generator()\n",
        "gan_generator = generator()\n",
        "\n",
        "gan_generator.load_weights(arquivoPesos(\"gan_generator.h5\"))\n",
        "pre_generator.load_weights(arquivoPesos(\"pre_generator.h5\"))\n",
        "\n",
        "# generator_model = generator()\n",
        "# generator_model.load_weights(arquivoPesos(\"gan_generator.h5\"))"
      ],
      "metadata": {
        "id": "BPdwe6tQnD7P"
      },
      "execution_count": null,
      "outputs": []
    },
    {
      "cell_type": "markdown",
      "source": [
        "####Agora com o generator já instânciado e alimentado e instânciado criamos a função que vai receber uma imagem de baixa resolução como input e usando a função do generator *resolve_single*, vamos a partir dessa imagem gerar sua versão em maior resolução.\n",
        "\n",
        "\n",
        "11. Além do upscaling em sí, vamos usar as bibliotecas do matplotlib para podermos apresentar a imagem original e sua versão após o processo. Isso tudo será implementado na função chamada *upscaling_visualizacao*"
      ],
      "metadata": {
        "id": "wq-yrvL8pngZ"
      }
    },
    {
      "cell_type": "code",
      "source": [
        "from model import resolve_single\n",
        "from utils import load_image\n",
        "\n",
        "def upscaling_visualizacao(lr_image):\n",
        "  lr = load_image(lr_image)\n",
        "\n",
        "  pre_upscaling = resolve_single(pre_generator, lr)\n",
        "  gan_upscaling = resolve_single(gan_generator, lr)\n",
        "\n",
        "  plt.figure(figsize=(5,5))\n",
        "\n",
        "  images= [lr, gan_upscaling]\n",
        "  titles = [\"Imagem Original em baixa resolução\", \"Imagem após o processo de superresolution completo\"]\n",
        "  positions = [1, 2]\n",
        "\n",
        "  for i, (img, titles, pos) in enumerate(zip(images, titles, positions)):\n",
        "    plt.subplot(2, 2, pos)\n",
        "    plt.title(titles)\n",
        "    plt.imshow(img)\n",
        "    plt.xticks([])\n",
        "    plt.yticks([])\n",
        "\n",
        "  return gan_upscaling"
      ],
      "metadata": {
        "id": "bJ1YG6sQpmra"
      },
      "execution_count": null,
      "outputs": []
    },
    {
      "cell_type": "markdown",
      "source": [
        "12. Existem Casos onde a imagem selecionada acaba por não seguir o modelo RxGxB, podendo então haver um outro canal na imagem chamado canal alfa, nesse caso precisamos criar uma função para converter essa imagem antes de realizar o processo de upscaling, removendo esse canal alfa. Para isso usamos a biblioteca numpy para transformar os dados da imagem em um array que vai ter 4 canais (alfa, Red, Green, Blue) e a biblioteca PIL para a partir desse array convertermos em um RGB (Red, Green, Blue)."
      ],
      "metadata": {
        "id": "nnQVrA6z1-SW"
      }
    },
    {
      "cell_type": "code",
      "source": [
        "from PIL import Image\n",
        "import numpy as np\n",
        "\n",
        "# Usamos essa função, pois precisamos converter o array da imagem para o formato de imagem RGB\n",
        "def convert_upscaling(lr_image):\n",
        "  lr = np.array(Image.open(lr_image).convert(\"RGB\"))\n",
        "\n",
        "  pre_upscaling = resolve_single(pre_generator, lr)\n",
        "  gan_upscaling = resolve_single(gan_generator, lr)\n",
        "\n",
        "  plt.figure(figsize=(10,10))\n",
        "\n",
        "  images= [lr, pre_upscaling, gan_upscaling]\n",
        "  titles = [\"Imagem Original em baixa resolução\", \"Imagem antes do processo de superresolution completo\", \"Imagem após o processo de superresolution completo\"]\n",
        "  positions = [1, 3, 4]\n",
        "\n",
        "  for i, (img, titles, pos) in enumerate(zip(images, titles, positions)):\n",
        "    plt.subplot(2, 2, pos)\n",
        "    plt.title(titles)\n",
        "    plt.imshow(img)\n",
        "    plt.xticks([])\n",
        "    plt.yticks([])\n",
        "\n",
        "  return gan_upscaling"
      ],
      "metadata": {
        "id": "-bNu790g16aN"
      },
      "execution_count": null,
      "outputs": []
    },
    {
      "cell_type": "markdown",
      "source": [
        "13. Vamos Então Fazer a Leitura do aquivo de imagem escolhido todas as imagens usadas para o superResolution estarão no diretório\n",
        "\n",
        " /SrganNoColab/super-resolution-colab/demo"
      ],
      "metadata": {
        "id": "QYMKHICfAEbd"
      }
    },
    {
      "cell_type": "code",
      "source": [
        "import cv2\n",
        "from PIL import Image\n",
        "\n",
        "imgToCV = files.upload()\n",
        "if imgToCV is not None:\n",
        "  for filename in imgToCV.keys():\n",
        "    with open(os.path.join(\"/content/drive/MyDrive/SrganNoColab/super-resolution-colab/demo\", filename), \"wb\") as f:\n",
        "      f.write(imgToCV[filename])\n",
        "    pilImage = Image.open(filename).convert(\"RGB\")\n",
        "    TransformCv = np.array(pilImage)[:, :, ::-1].copy()\n",
        "    # imageUploaded = Image.open(filename)\n",
        "    # display(imageUploaded)\n",
        "\n",
        "cv2.imwrite(\"image.jpg\", TransformCv)\n",
        "ImagemFinal = cv2.imread(\"image.jpg\")\n",
        "\n",
        "ganImage = convert_upscaling(\"image.jpg\")\n",
        "\n",
        "\n",
        "# upscaling_visualizacao(\"image.jpg\")"
      ],
      "metadata": {
        "id": "P51j5rDg4kSi"
      },
      "execution_count": null,
      "outputs": []
    },
    {
      "cell_type": "code",
      "source": [
        "# agora preciso salvar a cópia da imagem de sáida(SR) em um arquivo, colocar para esse arquivo ser salvo localmente."
      ],
      "metadata": {
        "id": "Eg7vCEYhLcl1"
      },
      "execution_count": null,
      "outputs": []
    },
    {
      "cell_type": "markdown",
      "source": [
        "14. Caso deseje salvar a imagem em alta resolução com adição de **borda** é só executar essa celúla\n",
        "\n",
        "A adição da borda branca é feita para facilitar a visualização da diferença de resolução entre a imagem antes e depois do SR, pois quanto mais zoom in na imagem que passou pelo processo de SR, mais será evidente os traços de deformidades que o processo deixa na imagem."
      ],
      "metadata": {
        "id": "P4x0VtdvJk6Q"
      }
    },
    {
      "cell_type": "code",
      "source": [
        "if ganImage is not None:\n",
        "  ganImage = np.array(ganImage)\n",
        "  # cv2.imwrite(\"image.jpg\", ganImage)\n",
        "  border = cv2.copyMakeBorder(ganImage, 600, 600, 600, 600, cv2.BORDER_CONSTANT, value=[255,255,255])\n",
        "  cv2.imwrite(\"image.jpg\", border)\n",
        "  files.download(\"image.jpg\")"
      ],
      "metadata": {
        "id": "6GzXp8mDGV8x"
      },
      "execution_count": null,
      "outputs": []
    },
    {
      "cell_type": "markdown",
      "source": [
        "15. Caso deseje salvar a imagem em alta resolução **sem** adição de **borda** é só executar essa celúla\n"
      ],
      "metadata": {
        "id": "OzaJChjq860F"
      }
    },
    {
      "cell_type": "code",
      "source": [
        "if ganImage is not None:\n",
        "  ganImage = np.array(ganImage)\n",
        "  # cv2.imwrite(\"image.jpg\", ganImage)\n",
        "  cv2.imwrite(\"image.jpg\", ganImage)\n",
        "  files.download(\"image.jpg\")"
      ],
      "metadata": {
        "id": "LGufOnJ69Ap8"
      },
      "execution_count": null,
      "outputs": []
    }
  ]
}